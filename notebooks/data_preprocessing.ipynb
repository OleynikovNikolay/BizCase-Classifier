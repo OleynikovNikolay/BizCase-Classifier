{
 "cells": [
  {
   "cell_type": "code",
   "execution_count": 22,
   "id": "3692c4c9-8f86-45e7-a3d5-c04bec2ffa65",
   "metadata": {},
   "outputs": [
    {
     "ename": "TypeError",
     "evalue": "expected str, bytes or os.PathLike object, not NoneType",
     "output_type": "error",
     "traceback": [
      "\u001b[0;31m---------------------------------------------------------------------------\u001b[0m",
      "\u001b[0;31mTypeError\u001b[0m                                 Traceback (most recent call last)",
      "Cell \u001b[0;32mIn[22], line 11\u001b[0m\n\u001b[1;32m      8\u001b[0m         \u001b[38;5;28;01mreturn\u001b[39;00m file\u001b[38;5;241m.\u001b[39mread()\n\u001b[1;32m     10\u001b[0m start_dir \u001b[38;5;241m=\u001b[39m os\u001b[38;5;241m.\u001b[39menviron\u001b[38;5;241m.\u001b[39mget(\u001b[38;5;124m'\u001b[39m\u001b[38;5;124mPERSONAL_PROJECTS\u001b[39m\u001b[38;5;124m'\u001b[39m)\n\u001b[0;32m---> 11\u001b[0m raw_data_dir \u001b[38;5;241m=\u001b[39m \u001b[43mos\u001b[49m\u001b[38;5;241;43m.\u001b[39;49m\u001b[43mpath\u001b[49m\u001b[38;5;241;43m.\u001b[39;49m\u001b[43mjoin\u001b[49m\u001b[43m(\u001b[49m\u001b[43mstart_dir\u001b[49m\u001b[43m,\u001b[49m\u001b[43m \u001b[49m\u001b[38;5;124;43m'\u001b[39;49m\u001b[38;5;124;43m/BizCase-Classifier/data/raw/UC Berkeley Enron Email Analysis Project\u001b[39;49m\u001b[38;5;124;43m'\u001b[39;49m\u001b[43m)\u001b[49m\n\u001b[1;32m     12\u001b[0m files_struct \u001b[38;5;241m=\u001b[39m {}\n\u001b[1;32m     14\u001b[0m \u001b[38;5;66;03m# Iterate through subdirectories in raw_data_dir\u001b[39;00m\n",
      "File \u001b[0;32m<frozen posixpath>:76\u001b[0m, in \u001b[0;36mjoin\u001b[0;34m(a, *p)\u001b[0m\n",
      "\u001b[0;31mTypeError\u001b[0m: expected str, bytes or os.PathLike object, not NoneType"
     ]
    }
   ],
   "source": [
    "# preprocessing data and writing it to json\n",
    "\n",
    "import os\n",
    "import json\n",
    "\n",
    "def read_file(file_path):\n",
    "    with open(file_path, 'r') as file:\n",
    "        return file.read()\n",
    "\n",
    "start_dir = os.environ.get('PERSONAL_PROJECTS')\n",
    "raw_data_dir = os.path.join(start_dir, '/BizCase-Classifier/data/raw/UC Berkeley Enron Email Analysis Project')\n",
    "\n",
    "files_struct = {}\n",
    "\n",
    "# Iterate through subdirectories in raw_data_dir\n",
    "for folder in os.listdir(raw_data_dir):\n",
    "    folder_path = os.path.join(raw_data_dir, folder)\n",
    "    \n",
    "    # Check if the item in the directory is a folder\n",
    "    if os.path.isdir(folder_path):\n",
    "        \n",
    "        # Iterate through files in the folder\n",
    "        for file_name in os.listdir(folder_path):\n",
    "            file_path = os.path.join(folder_path, file_name)\n",
    "            \n",
    "            # Check if the file has a '.txt' extension\n",
    "            if file_name.endswith('.txt'):\n",
    "                # Read and save file content\n",
    "                file_content = read_file(file_path)\n",
    "                files_struct[file_name] = {\"file_content\": file_content}\n",
    "                \n",
    "                # Determine cats file path\n",
    "                cats_path = os.path.join(folder_path, file_name.replace('.txt', '.cats'))\n",
    "                \n",
    "                # Check if the corresponding '.cats' file exists\n",
    "                if os.path.exists(cats_path):\n",
    "                    # Read and save cats content\n",
    "                    cats_content = read_file(cats_path)\n",
    "                    files_struct[file_name] = {\"cats\": cats_content}\n",
    "\n",
    "# writing to JSON\n",
    "output_json_file = os.path.join(start_dir, 'BizCase-Classifier/data/processed/data_struct.json')\n",
    "\n",
    "# Write the files_struct dictionary to a JSON file\n",
    "with open(output_json_file, 'w') as json_file:\n",
    "    json.dump(files_struct, json_file, indent=4)\n"
   ]
  },
  {
   "cell_type": "code",
   "execution_count": null,
   "id": "df73ab35-2b09-4f57-821b-a5a7dcefd343",
   "metadata": {},
   "outputs": [],
   "source": []
  }
 ],
 "metadata": {
  "kernelspec": {
   "display_name": "Python 3 (ipykernel)",
   "language": "python",
   "name": "python3"
  },
  "language_info": {
   "codemirror_mode": {
    "name": "ipython",
    "version": 3
   },
   "file_extension": ".py",
   "mimetype": "text/x-python",
   "name": "python",
   "nbconvert_exporter": "python",
   "pygments_lexer": "ipython3",
   "version": "3.11.5"
  }
 },
 "nbformat": 4,
 "nbformat_minor": 5
}
