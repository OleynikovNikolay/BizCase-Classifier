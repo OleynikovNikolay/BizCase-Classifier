{
 "cells": [
  {
   "cell_type": "code",
   "execution_count": 19,
   "id": "3692c4c9-8f86-45e7-a3d5-c04bec2ffa65",
   "metadata": {},
   "outputs": [],
   "source": [
    "# getting all txt emails through all the files\n",
    "import os \n",
    "\n",
    "raw_data_path = '/Users/nik/personal_projects/BizCase-Classifier/data/raw/UC Berkeley Enron Email Analysis Project/1'\n",
    "\n",
    "files_struct = {}\n",
    "\n",
    "file_list = os.listdir(raw_data_path)\n",
    "for file_name in file_list:\n",
    "    if file_name.split('.')[-1] == 'txt':\n",
    "        with open(txt_file_path, 'r') as file:\n",
    "            file_content = file.read()\n",
    "            files_struct.update({file_name:file_content})"
   ]
  },
  {
   "cell_type": "code",
   "execution_count": 20,
   "id": "87f9631c-b0ed-42aa-b320-c78d445a9fc0",
   "metadata": {},
   "outputs": [
    {
     "ename": "NameError",
     "evalue": "name 'file_struct' is not defined",
     "output_type": "error",
     "traceback": [
      "\u001b[0;31m---------------------------------------------------------------------------\u001b[0m",
      "\u001b[0;31mNameError\u001b[0m                                 Traceback (most recent call last)",
      "Cell \u001b[0;32mIn[20], line 1\u001b[0m\n\u001b[0;32m----> 1\u001b[0m \u001b[38;5;28mprint\u001b[39m(\u001b[43mfile_struct\u001b[49m)\n",
      "\u001b[0;31mNameError\u001b[0m: name 'file_struct' is not defined"
     ]
    }
   ],
   "source": []
  },
  {
   "cell_type": "code",
   "execution_count": null,
   "id": "808f4d75-740a-4395-a813-9b7400f13b23",
   "metadata": {},
   "outputs": [],
   "source": []
  }
 ],
 "metadata": {
  "kernelspec": {
   "display_name": "Python 3 (ipykernel)",
   "language": "python",
   "name": "python3"
  },
  "language_info": {
   "codemirror_mode": {
    "name": "ipython",
    "version": 3
   },
   "file_extension": ".py",
   "mimetype": "text/x-python",
   "name": "python",
   "nbconvert_exporter": "python",
   "pygments_lexer": "ipython3",
   "version": "3.11.5"
  }
 },
 "nbformat": 4,
 "nbformat_minor": 5
}
